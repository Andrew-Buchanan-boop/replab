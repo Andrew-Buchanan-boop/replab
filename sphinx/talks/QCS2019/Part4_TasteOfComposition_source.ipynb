{
 "cells": [
  {
   "cell_type": "markdown",
   "metadata": {},
   "source": [
    "# 4. A taste of composition with RepLAB\n",
    "\n",
    "This is part IV of the companion notebook to the RepLAB talk at the [Quantum Causal Structures](http://www.cs.ox.ac.uk/conferences/QCS2019/) workshop."
   ]
  },
  {
   "cell_type": "code",
   "execution_count": 12,
   "metadata": {},
   "outputs": [
    {
     "name": "stdout",
     "output_type": "stream",
     "text": [
      "warning: function /home/denis/w/replab/src/help.m shadows a core library function\n",
      "Adding RepLAB package to the path\n"
     ]
    }
   ],
   "source": [
    "run ../../../replab_init.m % Init RepLAB library"
   ]
  },
  {
   "cell_type": "markdown",
   "metadata": {},
   "source": [
    "## Party relabeling group\n",
    "We consider a party with $m$ measurement settings with $k$ outcomes."
   ]
  },
  {
   "cell_type": "code",
   "execution_count": 13,
   "metadata": {},
   "outputs": [
    {
     "name": "stdout",
     "output_type": "stream",
     "text": [
      "Gparty =\n",
      "\n",
      "replab.wreathproduct.OfNiceFiniteGroup\n",
      "           A: Permutations acting on 2 elements      \n",
      "           H: Permutations acting on 2 elements      \n",
      "           N: replab.directproduct.OfNiceFiniteGroups\n",
      "    identity: {[1, 2], {[1, 2], [1, 2]}}             \n",
      "           n: 2                                      \n",
      "      parent: replab.wreathproduct.OfNiceFiniteGroup \n",
      "         phi: replab.perm.PermutationCellAction      \n",
      "generator(1): {[2, 1], {[1, 2], [1, 2]}}             \n",
      "generator(2): {[1, 2], {[2, 1], [1, 2]}}             \n",
      "generator(3): {[1, 2], {[1, 2], [2, 1]}}             \n",
      "\n"
     ]
    }
   ],
   "source": [
    "m = 2; k = 2;\n",
    "Goutcomes = replab.S(k);\n",
    "Gsettings = replab.S(m);\n",
    "Gparty = Gsettings.wreathProduct(Goutcomes)"
   ]
  },
  {
   "cell_type": "markdown",
   "metadata": {},
   "source": [
    "We now define the two canonical representations of a wreath product group. For party relabeling groups, they correspond to conditional probability distributions and to deterministic strategies."
   ]
  },
  {
   "cell_type": "code",
   "execution_count": 14,
   "metadata": {},
   "outputs": [
    {
     "name": "stdout",
     "output_type": "stream",
     "text": [
      "probabilityRep =\n",
      "\n",
      "Orthogonal representation\n",
      "                      Arep: Orthogonal representation by images   \n",
      "                 dimension: 4                                     \n",
      "                     field: 'R'                                   \n",
      "   frobeniusSchurIndicator: []                                    \n",
      "                     group: replab.wreathproduct.OfNiceFiniteGroup\n",
      "isDivisionAlgebraCanonical: []                                    \n",
      "             isIrreducible: []                                    \n",
      "                 isUnitary: true                                  \n",
      "          trivialDimension: []                                    \n",
      "\n"
     ]
    }
   ],
   "source": [
    "probabilityRep = Gparty.imprimitiveRep(Goutcomes.naturalRep)"
   ]
  },
  {
   "cell_type": "code",
   "execution_count": 15,
   "metadata": {},
   "outputs": [
    {
     "name": "stdout",
     "output_type": "stream",
     "text": [
      "strategyRep =\n",
      "\n",
      "Orthogonal representation\n",
      "                      Arep: Orthogonal representation by images   \n",
      "                 dimension: 4                                     \n",
      "                     field: 'R'                                   \n",
      "   frobeniusSchurIndicator: []                                    \n",
      "                     group: replab.wreathproduct.OfNiceFiniteGroup\n",
      "isDivisionAlgebraCanonical: []                                    \n",
      "             isIrreducible: []                                    \n",
      "                 isUnitary: true                                  \n",
      "          trivialDimension: []                                    \n",
      "\n"
     ]
    }
   ],
   "source": [
    "strategyRep = Gparty.primitiveRep(Goutcomes.naturalRep)"
   ]
  },
  {
   "cell_type": "markdown",
   "metadata": {},
   "source": [
    "We can decompose those representations. For $m=k=2$, the probability representation has invariant vectors `[1,1,1,1]` (corresponding to overall normalization), `[1,1,-1,-1]` (corresponding to equal normalization accross settings), and an additional orthogonal space corresponding to the correlations."
   ]
  },
  {
   "cell_type": "code",
   "execution_count": 17,
   "metadata": {},
   "outputs": [
    {
     "name": "stdout",
     "output_type": "stream",
     "text": [
      "ans =\n",
      "\n",
      "Real representation\n",
      "                 dimension: 4                                             \n",
      "                     field: 'R'                                           \n",
      "   frobeniusSchurIndicator: []                                            \n",
      "                     group: replab.wreathproduct.OfNiceFiniteGroup        \n",
      "isDivisionAlgebraCanonical: []                                            \n",
      "             isIrreducible: []                                            \n",
      "                 isUnitary: []                                            \n",
      "                    parent: Orthogonal representation                     \n",
      "          trivialDimension: []                                            \n",
      "               basis.(:,1): [1, 1, 1, 1].'                                \n",
      "               basis.(:,2): [1, 1, -1, -1].'                              \n",
      "               basis.(:,3): [1, -1, 0, 0].'                               \n",
      "               basis.(:,4): [0, 0, 1, -1].'                               \n",
      "              component(1): Isotypic component (harmonized) R(1) (trivial)\n",
      "              component(2): Isotypic component ?(1)                       \n",
      "              component(3): Isotypic component ?(2)                       \n",
      "\n"
     ]
    }
   ],
   "source": [
    "probabilityRep.decomposition.nice"
   ]
  },
  {
   "cell_type": "code",
   "execution_count": 18,
   "metadata": {},
   "outputs": [
    {
     "name": "stdout",
     "output_type": "stream",
     "text": [
      "ans =\n",
      "\n",
      "Real trivial irreducible real-type subrepresentation\n",
      "                 dimension: 1                                     \n",
      "                     field: 'R'                                   \n",
      "   frobeniusSchurIndicator: 1                                     \n",
      "                     group: replab.wreathproduct.OfNiceFiniteGroup\n",
      "isDivisionAlgebraCanonical: []                                    \n",
      "             isIrreducible: true                                  \n",
      "                 isUnitary: []                                    \n",
      "                    parent: Orthogonal representation             \n",
      "          trivialDimension: 1                                     \n",
      "               basis.(:,1): [1, 1, 1, 1].'                        \n",
      "\n"
     ]
    }
   ],
   "source": [
    "probabilityRep.decomposition.nice.component(1).irrep(1)"
   ]
  },
  {
   "cell_type": "code",
   "execution_count": 19,
   "metadata": {},
   "outputs": [
    {
     "name": "stdout",
     "output_type": "stream",
     "text": [
      "ans =\n",
      "\n",
      "Real irreducible subrepresentation\n",
      "                 dimension: 1                                     \n",
      "                     field: 'R'                                   \n",
      "   frobeniusSchurIndicator: []                                    \n",
      "                     group: replab.wreathproduct.OfNiceFiniteGroup\n",
      "isDivisionAlgebraCanonical: []                                    \n",
      "             isIrreducible: true                                  \n",
      "                 isUnitary: []                                    \n",
      "                    parent: Orthogonal representation             \n",
      "          trivialDimension: []                                    \n",
      "               basis.(:,1): [1, 1, -1, -1].'                      \n",
      "\n"
     ]
    }
   ],
   "source": [
    "probabilityRep.decomposition.nice.component(2).irrep(1)"
   ]
  },
  {
   "cell_type": "markdown",
   "metadata": {},
   "source": [
    "We could also examine the representation on deterministic strategies; this is left to the reader."
   ]
  },
  {
   "cell_type": "code",
   "execution_count": 20,
   "metadata": {},
   "outputs": [
    {
     "name": "stdout",
     "output_type": "stream",
     "text": [
      "ans =\n",
      "\n",
      "Real representation\n",
      "                 dimension: 4                                             \n",
      "                     field: 'R'                                           \n",
      "   frobeniusSchurIndicator: []                                            \n",
      "                     group: replab.wreathproduct.OfNiceFiniteGroup        \n",
      "isDivisionAlgebraCanonical: []                                            \n",
      "             isIrreducible: []                                            \n",
      "                 isUnitary: []                                            \n",
      "                    parent: Orthogonal representation                     \n",
      "          trivialDimension: []                                            \n",
      "               basis.(:,1): [1, 1, 1, 1].'                                \n",
      "               basis.(:,2): [1, -1, -1, 1].'                              \n",
      "               basis.(:,3): [1, 0, 0, -1].'                               \n",
      "               basis.(:,4): [0, 1, -1, 0].'                               \n",
      "              component(1): Isotypic component (harmonized) R(1) (trivial)\n",
      "              component(2): Isotypic component ?(1)                       \n",
      "              component(3): Isotypic component ?(2)                       \n",
      "\n"
     ]
    }
   ],
   "source": [
    "strategyRep.decomposition.nice"
   ]
  },
  {
   "cell_type": "markdown",
   "metadata": {},
   "source": [
    "## Bell relabeling group\n",
    "We now consider a scenario of $n$ parties with $m$ settings and $k$ outcomes (as before), and construct the representation on joint conditional probabilities. For $n=m=k=2$, we reproduce the results of [our paper](https://iopscience.iop.org/article/10.1088/1751-8121/aa6f78)."
   ]
  },
  {
   "cell_type": "code",
   "execution_count": 22,
   "metadata": {},
   "outputs": [
    {
     "name": "stdout",
     "output_type": "stream",
     "text": [
      "Gscenario =\n",
      "\n",
      "replab.wreathproduct.OfNiceFiniteGroup\n",
      "           A: replab.wreathproduct.OfNiceFiniteGroup                            \n",
      "           H: Permutations acting on 2 elements                                 \n",
      "           N: replab.directproduct.OfNiceFiniteGroups                           \n",
      "    identity: {[1, 2], {{[1, 2], {[1, 2], [1, 2]}}, {[1, 2], {[1, 2], [1, 2]}}}}\n",
      "           n: 2                                                                 \n",
      "      parent: replab.wreathproduct.OfNiceFiniteGroup                            \n",
      "         phi: replab.perm.PermutationCellAction                                 \n",
      "generator(1): {[2, 1], {{[1, 2], {[1, 2], [1, 2]}}, {[1, 2], {[1, 2], [1, 2]}}}}\n",
      "generator(2): {[1, 2], {{[2, 1], {[1, 2], [1, 2]}}, {[1, 2], {[1, 2], [1, 2]}}}}\n",
      "generator(3): {[1, 2], {{[1, 2], {[2, 1], [1, 2]}}, {[1, 2], {[1, 2], [1, 2]}}}}\n",
      "generator(4): {[1, 2], {{[1, 2], {[1, 2], [2, 1]}}, {[1, 2], {[1, 2], [1, 2]}}}}\n",
      "generator(5): {[1, 2], {{[1, 2], {[1, 2], [1, 2]}}, {[2, 1], {[1, 2], [1, 2]}}}}\n",
      "generator(6): {[1, 2], {{[1, 2], {[1, 2], [1, 2]}}, {[1, 2], {[2, 1], [1, 2]}}}}\n",
      "generator(7): {[1, 2], {{[1, 2], {[1, 2], [1, 2]}}, {[1, 2], {[1, 2], [2, 1]}}}}\n",
      "\n"
     ]
    }
   ],
   "source": [
    "n = 2;\n",
    "m = 2; k = 2;\n",
    "Gparties = replab.S(n);\n",
    "Gscenario = Gparties.wreathProduct(Gparty)"
   ]
  },
  {
   "cell_type": "code",
   "execution_count": 23,
   "metadata": {},
   "outputs": [
    {
     "name": "stdout",
     "output_type": "stream",
     "text": [
      "probabilityScenarioRep =\n",
      "\n",
      "Orthogonal representation\n",
      "                      Arep: Orthogonal representation             \n",
      "                 dimension: 16                                    \n",
      "                     field: 'R'                                   \n",
      "   frobeniusSchurIndicator: []                                    \n",
      "                     group: replab.wreathproduct.OfNiceFiniteGroup\n",
      "isDivisionAlgebraCanonical: []                                    \n",
      "             isIrreducible: []                                    \n",
      "                 isUnitary: true                                  \n",
      "          trivialDimension: []                                    \n",
      "\n"
     ]
    }
   ],
   "source": [
    "probabilityScenarioRep = Gscenario.primitiveRep(Gparty.imprimitiveRep(Gsettings.naturalRep))"
   ]
  },
  {
   "cell_type": "code",
   "execution_count": 25,
   "metadata": {},
   "outputs": [
    {
     "name": "stdout",
     "output_type": "stream",
     "text": [
      "ans =\n",
      "\n",
      "Real representation\n",
      "                 dimension: 16                                            \n",
      "                     field: 'R'                                           \n",
      "   frobeniusSchurIndicator: []                                            \n",
      "                     group: replab.wreathproduct.OfNiceFiniteGroup        \n",
      "isDivisionAlgebraCanonical: []                                            \n",
      "             isIrreducible: []                                            \n",
      "                 isUnitary: []                                            \n",
      "                    parent: Orthogonal representation                     \n",
      "          trivialDimension: []                                            \n",
      "                     basis: 16 x 16 double                                \n",
      "              component(1): Isotypic component (harmonized) R(1) (trivial)\n",
      "              component(2): Isotypic component (harmonized) R(1)          \n",
      "              component(3): Isotypic component (harmonized) R(2)          \n",
      "              component(4): Isotypic component (harmonized) R(4)          \n",
      "              component(5): Isotypic component (harmonized) R(4)          \n",
      "              component(6): Isotypic component (harmonized) R(4)          \n",
      "\n"
     ]
    }
   ],
   "source": [
    "probabilityScenarioRep.decomposition"
   ]
  },
  {
   "cell_type": "code",
   "execution_count": null,
   "metadata": {},
   "outputs": [],
   "source": []
  }
 ],
 "metadata": {
  "kernelspec": {
   "display_name": "Octave",
   "language": "octave",
   "name": "octave"
  },
  "language_info": {
   "file_extension": ".m",
   "help_links": [
    {
     "text": "GNU Octave",
     "url": "https://www.gnu.org/software/octave/support.html"
    },
    {
     "text": "Octave Kernel",
     "url": "https://github.com/Calysto/octave_kernel"
    },
    {
     "text": "MetaKernel Magics",
     "url": "https://metakernel.readthedocs.io/en/latest/source/README.html"
    }
   ],
   "mimetype": "text/x-octave",
   "name": "octave",
   "version": "4.2.2"
  }
 },
 "nbformat": 4,
 "nbformat_minor": 4
}

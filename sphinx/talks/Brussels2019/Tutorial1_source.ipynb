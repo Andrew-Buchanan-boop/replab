{
 "cells": [
  {
   "cell_type": "markdown",
   "metadata": {},
   "source": [
    "# 1. Introduction to representation for quantum information people\n",
    "\n",
    "For a compact introduction to representation theory, see the [book of Jean-Pierre Serre](https://link.springer.com/book/10.1007/978-1-4684-9458-7).\n",
    "\n",
    "Follow the [installation instructions](https://replab.github.io/replab/docs/installation.html).\n",
    "\n",
    "Then add the RepLAB path. The path below is the one for the machine that produced this notebook! Replace by your own. Or, better, move to the root RepLAB folder and just run the `replab_addpaths` script."
   ]
  },
  {
   "cell_type": "code",
   "execution_count": 1,
   "metadata": {},
   "outputs": [
    {
     "name": "stdout",
     "output_type": "stream",
     "text": [
      "Adding RepLAB to the path\n",
      "warning: function /home/denis/w/replab/src/help.m shadows a core library function\n",
      "Adding RepLAB package to the path\n",
      "Loading optim package for Octave...\n",
      "OpenJDK 64-Bit Server VM warning: Archived non-system classes are disabled because the java.system.class.loader property is specified (value = \"org.octave.OctClassLoader\"). To use archived non-system classes, this property must be not be set\n",
      "Adding VPI to the path\n",
      "Adding MOxUnit to the path\n",
      "Adding embedded YALMIP to the path\n",
      "Adding embedded SDPT3 solver to the path\n",
      "Adding MOcov to the path\n"
     ]
    }
   ],
   "source": [
    "run ../../../replab_init"
   ]
  },
  {
   "cell_type": "markdown",
   "metadata": {},
   "source": [
    "## Symmetries of the outcomes of a measurement\n",
    "\n",
    "We start by studying the symmetries of a single measurement on a quantum system. Let us say that the measurement has outcomes $a = 1, 2, \\ldots, k$. \n",
    "\n",
    "### Symmetry group\n",
    "\n",
    "We are interested in relabelings of these outcomes; those relabelings are represented by permutations. The group of all permutations of $k$ elements is the symmetric group of degree $k$, written $S_k$.\n",
    "\n",
    "For the motivation, see our [paper on the symmetries of nonlocality in the context of device-independence](https://arxiv.org/abs/1610.01833). See also the [description of the symmetric group on Wikipedia](https://en.wikipedia.org/wiki/Symmetric_group).\n",
    "\n",
    "In particular, there are different ways of writing elements of a symmetric group. RepLAB chooses to write down the permutation as the image row vector. For $\\pi \\in S_5$, we write $\\pi = [\\pi(1), \\pi(2), \\pi(3), \\pi(4), \\pi(5)]$ (using square brackets to distinguish this notation from the cycle notation), which corresponds to the *one-line notation* of https://en.wikipedia.org/wiki/Permutation#Notations .\n",
    "\n",
    "For the group axioms, Wikipedia has a [compact discussion](https://en.wikipedia.org/wiki/Group_(mathematics)) . When composing permutations, one needs to decide, for $\\pi, \\sigma \\in S_k$, how to compute the product $\\pi \\cdot \\sigma$. We make the choice of having $(\\pi \\cdot \\sigma)(a) = \\pi ( \\sigma (a))$, which corresponds to a left action, i.e. $\\sigma$ is applied first. See https://en.wikipedia.org/wiki/Permutation#Composition_of_permutations for details.\n",
    "\n",
    "This choice of composition corresponds to standard notation used in physics; however computational group theory uses a right action convention, most of the time using the *exponent notation*. Those notation choices should not concern the RepLAB user, as we made sure that the software uses consistent notation.\n",
    "\n",
    "Below, we construct the symmetric group $S_5$. The object `S5` we construct knows how to compose permutations, when they are written using row vectors of integers in Matlab/Octave. The composition example is the one from [Wikipedia](https://en.wikipedia.org/wiki/Symmetric_group#Multiplication), and we check that we recover the same results."
   ]
  },
  {
   "cell_type": "code",
   "execution_count": 2,
   "metadata": {},
   "outputs": [
    {
     "name": "stdout",
     "output_type": "stream",
     "text": [
      "f =\n",
      "\n",
      "   3   2   1   5   4\n",
      "\n",
      "g =\n",
      "\n",
      "   2   5   4   3   1\n",
      "\n",
      "fg =\n",
      "\n",
      "   2   4   5   1   3\n",
      "\n"
     ]
    }
   ],
   "source": [
    "S5 = replab.Permutations(5);\n",
    "f = [3 2 1 5 4]\n",
    "g = [2 5 4 3 1]\n",
    "fg = S5.compose(f, g)"
   ]
  },
  {
   "cell_type": "markdown",
   "metadata": {},
   "source": [
    "Note that permutations carry the size of their domain with them: the permutation $[2, 3, 1, 4]$ is not the same as the permutation $[2, 3, 1]$ even if both have the same action on $1,2,3$ and the first one leaves $4$ invariant."
   ]
  },
  {
   "cell_type": "markdown",
   "metadata": {},
   "source": [
    "**Exercice**: for fun, try to run `S5.order`, `S5.inverse(f)`, `S5.elements`, `S5.sample`. Construct `S50 = replab.Permutations(50)`. Compute `S50.order`, and try `S50.elements`."
   ]
  },
  {
   "cell_type": "markdown",
   "metadata": {},
   "source": [
    "### Representation\n",
    "\n",
    "The distribution of outcomes of the measurement above can be represented by the distribution $P_\\text{A}(a)$. We can also represent the distribution as a vector $\\vec{P}_\\text{A} \\in V = \\mathbb{R}^5$, with the following enumeration of coefficients: $\\vec{P}_\\text{A}^\\top = \\left ( P_\\text{A}(1), P_\\text{A}(2),  P_\\text{A}(3),  P_\\text{A}(4) ,  P_\\text{A}(5) \\right ) $. This action of elements of $S_5$ on $V = \\mathbb{R}^5$ is encoded as a [group representation](https://en.wikipedia.org/wiki/Representation_theory#Definition); in RepLAB we call it the *defining representation* of $S_5$."
   ]
  },
  {
   "cell_type": "code",
   "execution_count": 3,
   "metadata": {},
   "outputs": [
    {
     "name": "stdout",
     "output_type": "stream",
     "text": [
      "rep5 =\n",
      "\n",
      "Orthogonal representation by images\n",
      "                 dimension: 5                                \n",
      "                     field: 'R'                              \n",
      "   frobeniusSchurIndicator: []                               \n",
      "                     group: Permutations acting on 5 elements\n",
      "    inverseImages_internal: 1 x 2 cell                       \n",
      "isDivisionAlgebraCanonical: []                               \n",
      "             isIrreducible: []                               \n",
      "                 isUnitary: true                             \n",
      "          trivialDimension: []                               \n",
      "        images_internal{1}: 5 x 5 double                     \n",
      "        images_internal{2}: 5 x 5 double                     \n",
      "\n",
      "ans =\n",
      "\n",
      "   0   0   0   0   1\n",
      "   1   0   0   0   0\n",
      "   0   0   0   1   0\n",
      "   0   0   1   0   0\n",
      "   0   1   0   0   0\n",
      "\n",
      "ans =\n",
      "\n",
      "   0   0   0   0   0\n",
      "   0   0   0   0   0\n",
      "   0   0   0   0   0\n",
      "   0   0   0   0   0\n",
      "   0   0   0   0   0\n",
      "\n"
     ]
    }
   ],
   "source": [
    "rep5 = S5.naturalRep\n",
    "rep5.image(g)\n",
    "rep5.image(f)*rep5.image(g) - rep5.image(S5.compose(f, g)) % check the representation axiom"
   ]
  },
  {
   "cell_type": "markdown",
   "metadata": {},
   "source": [
    "### Invariant subspaces and subrepresentations\n",
    "\n",
    "Let $G$ be a group, and $\\rho: G \\to GL(V)$ a representation of $G$ on a vector space $V$. The space $GL(V)$ designates invertible linear maps from $V$ to $V$. In RepLAB, the vector space $V$ is defined either over the real or complex numbers.\n",
    "\n",
    "An invariant subspace of $V$ is a subspace $W \\subseteq V$ that stays invariant under the action of $\\rho$. Formally, we want for all $\\vec{w} \\in W$ and $g \\in G$ that $\\rho_g ~ \\vec{w} \\in W$.\n",
    "\n",
    "Any representation $V$ has two subrepresentations: the empty subspace $0$ and $V$ itself.\n",
    "\n",
    "For any permutation representation like `rep5` above, the subspace spanned by the vector of all ones $(1,1,1,1,1)^\\top$ is a subrepresentation: any vector of the form $(x,x,x,x,x)^\\top\\in\\mathbb{R}^5$ stays invariant under permutation of coefficients.\n",
    "\n",
    "As of Oct 2019, RepLAB only provides full functionality for *unitary* representations, that is when $\\rho_g^+ = \\rho_g^{-1} = \\rho_{g^{-1}}$. Most of the literature assumes unitarity \"without loss of generality\", as a finite dimensional nonunitary representation for a compact group can always be made unitary after a change of basis.\n",
    "\n",
    "With the other assumptions we make, this means that the orthogonal complement to $(1,1,1,1,1)^\\top$ is also an invariant subspace.\n",
    "\n",
    "By restricting a representation $\\rho$ to one of its invariant subspaces, one then defines a subrepresentation.\n",
    "\n",
    "A representation that has no invariant subspaces except $0$ and the full space $V$ is *irreducible*. The decomposition of a representation into irreducible representations can be obtained by recursively decomposing subrepresentations until the components are irreducible; obtaining that decomposition is pretty tricky, but luckily RepLAB automates that.\n",
    "\n",
    "We obtain this decomposition and consider the first irreducible subrepresentation: the vector of all ones. Note that RepLAB recovers a \"nice\" algebraic expression for the basis of that subspace if we apply the `nice` method on the decomposition; this works in a few cases, the rest of the time that basis will be numerical/approximate to floating-point precision. We also check how the representation looks in that invariant subspace."
   ]
  },
  {
   "cell_type": "code",
   "execution_count": 16,
   "metadata": {},
   "outputs": [
    {
     "name": "stdout",
     "output_type": "stream",
     "text": [
      "D5 =\n",
      "\n",
      "Orthogonal representation\n",
      "                 dimension: 5                                                  \n",
      "                     field: 'R'                                                \n",
      "   frobeniusSchurIndicator: []                                                 \n",
      "                     group: Permutations acting on 5 elements                  \n",
      "isDivisionAlgebraCanonical: []                                                 \n",
      "             isIrreducible: []                                                 \n",
      "                 isUnitary: true                                               \n",
      "                    parent: Orthogonal representation by images                \n",
      "          trivialDimension: []                                                 \n",
      "               basis.(:,1): [0.44721, 0.44721, 0.44721, 0.44721, 0.44721].'    \n",
      "               basis.(:,2): [0.89443, -0.22361, -0.22361, -0.22361, -0.22361].'\n",
      "               basis.(:,3): [0, 0.86603, -0.28868, -0.28868, -0.28868].'       \n",
      "               basis.(:,4): [0, 0, 0.8165, -0.40825, -0.40825].'               \n",
      "               basis.(:,5): [0, 0, 0, 0.70711, -0.70711].'                     \n",
      "              component(1): Isotypic component (harmonized) R(1) (trivial)     \n",
      "              component(2): Isotypic component (harmonized) R(4)               \n",
      "\n"
     ]
    }
   ],
   "source": [
    "% The floating point approximate decomposition\n",
    "D5 = rep5.decomposition"
   ]
  },
  {
   "cell_type": "code",
   "execution_count": 17,
   "metadata": {},
   "outputs": [
    {
     "name": "stdout",
     "output_type": "stream",
     "text": [
      "N5 =\n",
      "\n",
      "Real representation\n",
      "                 dimension: 5                                             \n",
      "                     field: 'R'                                           \n",
      "   frobeniusSchurIndicator: []                                            \n",
      "                     group: Permutations acting on 5 elements             \n",
      "isDivisionAlgebraCanonical: []                                            \n",
      "             isIrreducible: []                                            \n",
      "                 isUnitary: []                                            \n",
      "                    parent: Orthogonal representation by images           \n",
      "          trivialDimension: []                                            \n",
      "               basis.(:,1): [1, 1, 1, 1, 1].'                             \n",
      "               basis.(:,2): [-1, -1, 4, -1, -1].'                         \n",
      "               basis.(:,3): [-1, 3, 0, -1, -1].'                          \n",
      "               basis.(:,4): [2, 0, 0, -1, -1].'                           \n",
      "               basis.(:,5): [0, 0, 0, 1, -1].'                            \n",
      "              component(1): Isotypic component (harmonized) R(1) (trivial)\n",
      "              component(2): Isotypic component ?(4)                       \n",
      "\n"
     ]
    }
   ],
   "source": [
    "% Recovering nice coefficients for the basis\n",
    "N5 = D5.nice"
   ]
  },
  {
   "cell_type": "code",
   "execution_count": 19,
   "metadata": {},
   "outputs": [
    {
     "name": "stdout",
     "output_type": "stream",
     "text": [
      "subrep5a =\n",
      "\n",
      "Orthogonal trivial irreducible real-type subrepresentation\n",
      "                 dimension: 1                                              \n",
      "                     field: 'R'                                            \n",
      "   frobeniusSchurIndicator: 1                                              \n",
      "                     group: Permutations acting on 5 elements              \n",
      "isDivisionAlgebraCanonical: []                                             \n",
      "             isIrreducible: true                                           \n",
      "                 isUnitary: true                                           \n",
      "                    parent: Orthogonal representation by images            \n",
      "          trivialDimension: 1                                              \n",
      "               basis.(:,1): [0.44721, 0.44721, 0.44721, 0.44721, 0.44721].'\n",
      "\n",
      "ans =  1.00000\n",
      "ans =  1.00000\n"
     ]
    }
   ],
   "source": [
    "% Images in the subrepresentations\n",
    "subrep5a = D5.irrep(1) % this is the first irreducible component\n",
    "subrep5a.image(S5.generator(1))\n",
    "subrep5a.image(S5.generator(2))"
   ]
  },
  {
   "cell_type": "markdown",
   "metadata": {},
   "source": [
    "We note that both generators of $S_5$ look like the identity matrix of dimension $1$ in that subrepresentation. Thus, any element of $S_5$ corresponds to the identity matrix for that subrepresentation. Such a representation with an identity image is the *trivial representation*.\n",
    "\n",
    "We move now to the other subrepresentation."
   ]
  },
  {
   "cell_type": "code",
   "execution_count": 13,
   "metadata": {},
   "outputs": [
    {
     "name": "stdout",
     "output_type": "stream",
     "text": [
      "subrep5b =\n",
      "\n",
      "Real fully nontrivial irreducible subrepresentation\n",
      "                 dimension: 4                                  \n",
      "                     field: 'R'                                \n",
      "   frobeniusSchurIndicator: []                                 \n",
      "                     group: Permutations acting on 5 elements  \n",
      "isDivisionAlgebraCanonical: []                                 \n",
      "             isIrreducible: true                               \n",
      "                 isUnitary: []                                 \n",
      "                    parent: Orthogonal representation by images\n",
      "          trivialDimension: 0                                  \n",
      "               basis.(:,1): [-1, -1, 4, -1, -1].'              \n",
      "               basis.(:,2): [-1, 3, 0, -1, -1].'               \n",
      "               basis.(:,3): [2, 0, 0, -1, -1].'                \n",
      "               basis.(:,4): [0, 0, 0, 1, -1].'                 \n",
      "\n",
      "ans =\n",
      "\n",
      "  -0.25000   0.75000   0.00000   0.00000\n",
      "  -0.41667  -0.08333   0.66667   0.00000\n",
      "  -0.83333  -0.16667  -0.16667  -0.50000\n",
      "   2.50000   0.50000   0.50000  -0.50000\n",
      "\n",
      "ans =\n",
      "\n",
      "   1.00000  -0.00000   0.00000   0.00000\n",
      "  -0.00000  -0.33333   0.66667   0.00000\n",
      "   0.00000   1.33333   0.33333   0.00000\n",
      "   0.00000   0.00000   0.00000   1.00000\n",
      "\n"
     ]
    }
   ],
   "source": [
    "subrep5b = D5.irrep(2)\n",
    "subrep5b.image(S5.generator(1))\n",
    "subrep5b.image(S5.generator(2))"
   ]
  },
  {
   "cell_type": "markdown",
   "metadata": {},
   "source": [
    "Now the generators of $S_5$ look like they are doing something in that subrepresentation! That representation is actually the [standard representation](https://groupprops.subwiki.org/wiki/Standard_representation) of $S_5$.\n",
    "\n",
    "### Physical interpretation\n",
    "\n",
    "The physical interpretation of invariant subspaces is that they correspond to properties that are preserved under symmetry.\n",
    "\n",
    "In the present case, the split into the two subrepresentations highlight a property of probability distributions invariant under relabeling of outcomes, the *normalization* of the distribution.\n",
    "\n",
    "### The original representation in the basis that exhibits the decomposition\n",
    "\n",
    "The matrix $B$ is the change of basis that block diagonalizes the representation. Here, we can show that `rep5` has a 1x1 and 4x4 block structure in the relevant basis."
   ]
  },
  {
   "cell_type": "code",
   "execution_count": 23,
   "metadata": {},
   "outputs": [
    {
     "name": "stdout",
     "output_type": "stream",
     "text": [
      "B =\n",
      "\n",
      "   0.44721   0.89443   0.00000   0.00000   0.00000\n",
      "   0.44721  -0.22361   0.86603   0.00000   0.00000\n",
      "   0.44721  -0.22361  -0.28868   0.81650   0.00000\n",
      "   0.44721  -0.22361  -0.28868  -0.40825   0.70711\n",
      "   0.44721  -0.22361  -0.28868  -0.40825  -0.70711\n",
      "\n",
      "ans =\n",
      "\n",
      "   1.00000   0.00000  -0.00000  -0.00000  -0.00000\n",
      "   0.00000  -0.25000  -0.32275  -0.45644  -0.79057\n",
      "   0.00000   0.96825  -0.08333  -0.11785  -0.20412\n",
      "   0.00000   0.00000   0.94281  -0.16667  -0.28868\n",
      "   0.00000   0.00000   0.00000   0.86603  -0.50000\n",
      "\n",
      "ans =\n",
      "\n",
      "   1.00000   0.00000   0.00000   0.00000   0.00000\n",
      "   0.00000  -0.25000   0.96825  -0.00000  -0.00000\n",
      "  -0.00000   0.96825   0.25000  -0.00000   0.00000\n",
      "   0.00000   0.00000   0.00000   1.00000   0.00000\n",
      "   0.00000   0.00000   0.00000   0.00000   1.00000\n",
      "\n"
     ]
    }
   ],
   "source": [
    "B = D5.basis\n",
    "inv(B) * rep5.image(S5.generator(1)) * B\n",
    "inv(B) * rep5.image(S5.generator(2)) * B"
   ]
  },
  {
   "cell_type": "markdown",
   "metadata": {},
   "source": [
    "## Another example\n",
    "\n",
    "To continue this discussion, we consider a measurement with two outcomes $a=1,2$. The symmetry group is now $S_2$, and has two elements: identity $[1,2]$ and flip $[2,1]$."
   ]
  },
  {
   "cell_type": "code",
   "execution_count": 7,
   "metadata": {},
   "outputs": [
    {
     "name": "stdout",
     "output_type": "stream",
     "text": [
      "S2 =\n",
      "\n",
      "Permutations acting on 2 elements\n",
      "  domainSize: 2                                \n",
      "    identity: [1, 2]                           \n",
      "      parent: Permutations acting on 2 elements\n",
      "generator(1): [2, 1]                           \n",
      "\n",
      "ans =\n",
      "\n",
      "Indexed family of 2 elements\n",
      "1 = [1, 2]\n",
      "2 = [2, 1]\n",
      "\n"
     ]
    }
   ],
   "source": [
    "S2 = replab.Permutations(2)\n",
    "S2.elements"
   ]
  },
  {
   "cell_type": "markdown",
   "metadata": {},
   "source": [
    "The defining representation has two images: the identity $\\begin{pmatrix}1 & 0\\\\0 & 1\\end{pmatrix}$ and the flip $\\begin{pmatrix}0 & 1\\\\1 & 0 \\end{pmatrix}$."
   ]
  },
  {
   "cell_type": "code",
   "execution_count": 8,
   "metadata": {},
   "outputs": [
    {
     "name": "stdout",
     "output_type": "stream",
     "text": [
      "rep2 =\n",
      "\n",
      "Orthogonal representation by images\n",
      "                 dimension: 2                                \n",
      "                     field: 'R'                              \n",
      "   frobeniusSchurIndicator: []                               \n",
      "                     group: Permutations acting on 2 elements\n",
      "    inverseImages_internal: {[0, 1; 1, 0]}                   \n",
      "isDivisionAlgebraCanonical: []                               \n",
      "             isIrreducible: []                               \n",
      "                 isUnitary: true                             \n",
      "          trivialDimension: []                               \n",
      "        images_internal{1}: [0, 1; 1, 0]                     \n",
      "\n",
      "ans =\n",
      "\n",
      "   1   0\n",
      "   0   1\n",
      "\n",
      "ans =\n",
      "\n",
      "   0   1\n",
      "   1   0\n",
      "\n"
     ]
    }
   ],
   "source": [
    "rep2 = S2.naturalRep\n",
    "rep2.image([1,2])\n",
    "rep2.image([2,1])"
   ]
  },
  {
   "cell_type": "markdown",
   "metadata": {},
   "source": [
    "Now, one can check that the two subrepresentations correspond to vector spaces spanned by $(1,1)^\\top$ and $(1,-1)^\\top$ respectively."
   ]
  },
  {
   "cell_type": "code",
   "execution_count": 26,
   "metadata": {},
   "outputs": [
    {
     "name": "stdout",
     "output_type": "stream",
     "text": [
      "D2 =\n",
      "\n",
      "Real representation\n",
      "                 dimension: 2                                             \n",
      "                     field: 'R'                                           \n",
      "   frobeniusSchurIndicator: []                                            \n",
      "                     group: Permutations acting on 2 elements             \n",
      "isDivisionAlgebraCanonical: []                                            \n",
      "             isIrreducible: []                                            \n",
      "                 isUnitary: []                                            \n",
      "                    parent: Orthogonal representation by images           \n",
      "          trivialDimension: []                                            \n",
      "               basis.(:,1): [1, 1].'                                      \n",
      "               basis.(:,2): [1, -1].'                                     \n",
      "              component(1): Isotypic component (harmonized) R(1) (trivial)\n",
      "              component(2): Isotypic component ?(1)                       \n",
      "\n",
      "ans =\n",
      "\n",
      "   1\n",
      "   1\n",
      "\n",
      "ans =\n",
      "\n",
      "   1\n",
      "  -1\n",
      "\n"
     ]
    }
   ],
   "source": [
    "D2 = rep2.decomposition.nice\n",
    "D2.irrep(1).basis\n",
    "D2.irrep(2).basis"
   ]
  },
  {
   "cell_type": "markdown",
   "metadata": {},
   "source": [
    "Up to a multiplicative factor, these two vectors extract two quantities: $(1,1) \\cdot \\vec{P}$ computes the normalization, while $(1,-1) \\cdot \\vec{P}$ computes the correlator $P(1) - P(2)$ often used in quantum information for systems with binary outcomes.\n",
    "\n",
    "Note that the flip operation leaves $(1,1)$ invariant, while it changes the sign of $(1,-1)$. Accordingly, the subrepresentation in the subspace spanned by $(1,-1)$ is called the *sign representation*."
   ]
  },
  {
   "cell_type": "markdown",
   "metadata": {},
   "source": [
    "## Conditional probability distributions\n",
    "\n",
    "We now move to the study of conditional probability distributions $P_{A|X}(a|x)$. For simplicity, we consider binary outputs $a=1,2$ and binary inputs $x=1,2$. We enumerate the coefficients in a vector $\\vec{P} = (P(1|1), P(2|1), P(1|2), P(2|2))^\\top$.\n",
    "\n",
    "Different operations are available:\n",
    "\n",
    "- Permutation of inputs, which will permute coefficients of $\\vec{P}$ according to $g_1 = [3,4,1,2]$.\n",
    "\n",
    "- Permutation of outputs of the first measurement, which will permute $\\vec{P}$ according to $g_2 = [2,1,3,4]$.\n",
    "\n",
    "- The permutation of outputs of the second measurement is achieved by conjugating $g_2$ by $g_1$, i.e. by $g_1 ~ g_2 ~ g_1$, so we do not need to provide that group generator explicitly.\n",
    "\n",
    "We then construct the group $G=\\left <g_1, g_2 \\right>$ and its defining representation, which we decompose into irreducible subrepresentations."
   ]
  },
  {
   "cell_type": "code",
   "execution_count": 10,
   "metadata": {},
   "outputs": [
    {
     "name": "stdout",
     "output_type": "stream",
     "text": [
      "G =\n",
      "\n",
      "replab.PermutationSubgroup\n",
      "  domainSize: 4                                \n",
      "    identity: [1, 2, 3, 4]                     \n",
      "      parent: Permutations acting on 4 elements\n",
      "generator(1): [3, 4, 1, 2]                     \n",
      "generator(2): [2, 1, 3, 4]                     \n",
      "\n",
      "ans =\n",
      "\n",
      "Indexed family of 8 elements\n",
      "1 = [1, 2, 3, 4]\n",
      "2 = [1, 2, 4, 3]\n",
      "3 = [2, 1, 3, 4]\n",
      "4 = [2, 1, 4, 3]\n",
      "5 = [3, 4, 1, 2]\n",
      "6 = [3, 4, 2, 1]\n",
      "7 = [4, 3, 1, 2]\n",
      "8 = [4, 3, 2, 1]\n",
      "\n",
      "Grep =\n",
      "\n",
      "Orthogonal representation by images\n",
      "                 dimension: 4                                               \n",
      "                     field: 'R'                                             \n",
      "   frobeniusSchurIndicator: []                                              \n",
      "                     group: replab.PermutationSubgroup                      \n",
      "    inverseImages_internal: 1 x 2 cell                                      \n",
      "isDivisionAlgebraCanonical: []                                              \n",
      "             isIrreducible: []                                              \n",
      "                 isUnitary: true                                            \n",
      "          trivialDimension: []                                              \n",
      "        images_internal{1}: [0, 0, 1, 0; 0, 0, 0, 1; 1, 0, 0, 0; 0, 1, 0, 0]\n",
      "        images_internal{2}: [0, 1, 0, 0; 1, 0, 0, 0; 0, 0, 1, 0; 0, 0, 0, 1]\n",
      "\n"
     ]
    }
   ],
   "source": [
    "g1 = [3,4,1,2];\n",
    "g2 = [2,1,3,4];\n",
    "generators = {g1 g2}; % arrays of things in Matlab are cell arrays\n",
    "G = replab.Permutations(4).subgroup(generators) % construction as a subgroup of a generic parent group\n",
    "G.elements\n",
    "Grep = G.naturalRep"
   ]
  },
  {
   "cell_type": "code",
   "execution_count": 27,
   "metadata": {},
   "outputs": [
    {
     "name": "stdout",
     "output_type": "stream",
     "text": [
      "Gdec =\n",
      "\n",
      "Real representation\n",
      "                 dimension: 4                                             \n",
      "                     field: 'R'                                           \n",
      "   frobeniusSchurIndicator: []                                            \n",
      "                     group: replab.PermutationSubgroup                    \n",
      "isDivisionAlgebraCanonical: []                                            \n",
      "             isIrreducible: []                                            \n",
      "                 isUnitary: []                                            \n",
      "                    parent: Orthogonal representation by images           \n",
      "          trivialDimension: []                                            \n",
      "               basis.(:,1): [1, 1, 1, 1].'                                \n",
      "               basis.(:,2): [1, 1, -1, -1].'                              \n",
      "               basis.(:,3): [1, -1, 0, 0].'                               \n",
      "               basis.(:,4): [0, 0, 1, -1].'                               \n",
      "              component(1): Isotypic component (harmonized) R(1) (trivial)\n",
      "              component(2): Isotypic component ?(1)                       \n",
      "              component(3): Isotypic component ?(2)                       \n",
      "\n",
      "I1 =\n",
      "\n",
      "Real trivial irreducible real-type subrepresentation\n",
      "                 dimension: 1                                  \n",
      "                     field: 'R'                                \n",
      "   frobeniusSchurIndicator: 1                                  \n",
      "                     group: replab.PermutationSubgroup         \n",
      "isDivisionAlgebraCanonical: []                                 \n",
      "             isIrreducible: true                               \n",
      "                 isUnitary: []                                 \n",
      "                    parent: Orthogonal representation by images\n",
      "          trivialDimension: 1                                  \n",
      "               basis.(:,1): [1, 1, 1, 1].'                     \n",
      "\n",
      "I2 =\n",
      "\n",
      "Real irreducible subrepresentation\n",
      "                 dimension: 1                                  \n",
      "                     field: 'R'                                \n",
      "   frobeniusSchurIndicator: []                                 \n",
      "                     group: replab.PermutationSubgroup         \n",
      "isDivisionAlgebraCanonical: []                                 \n",
      "             isIrreducible: true                               \n",
      "                 isUnitary: []                                 \n",
      "                    parent: Orthogonal representation by images\n",
      "          trivialDimension: []                                 \n",
      "               basis.(:,1): [1, 1, -1, -1].'                   \n",
      "\n",
      "I3 =\n",
      "\n",
      "Real irreducible subrepresentation\n",
      "                 dimension: 2                                  \n",
      "                     field: 'R'                                \n",
      "   frobeniusSchurIndicator: []                                 \n",
      "                     group: replab.PermutationSubgroup         \n",
      "isDivisionAlgebraCanonical: []                                 \n",
      "             isIrreducible: true                               \n",
      "                 isUnitary: []                                 \n",
      "                    parent: Orthogonal representation by images\n",
      "          trivialDimension: []                                 \n",
      "               basis.(:,1): [1, -1, 0, 0].'                    \n",
      "               basis.(:,2): [0, 0, 1, -1].'                    \n",
      "\n"
     ]
    }
   ],
   "source": [
    "% Let's decompose this representation into irreducible subrepresentations\n",
    "Gdec = Grep.decomposition.nice\n",
    "I1 = Gdec.irrep(1)\n",
    "I2 = Gdec.irrep(2)\n",
    "I3 = Gdec.irrep(3)"
   ]
  },
  {
   "cell_type": "markdown",
   "metadata": {},
   "source": [
    "What are the irreps we obtain? We have:\n",
    "\n",
    "- A first subspace encoding the overall normalization $(1,1,1,1) \\cdot \\vec{P} = 2$, by definition of $\\sum_{a} P(a|x) = 1$.\n",
    "\n",
    "- A second subspace encoding the difference in normalization between the condition $x=1$ and the condition $x=2$: $(1,1,-1,-1) \\cdot \\vec{P} = 0$.\n",
    "\n",
    "- The third subspace, after a change of basis vectors, corresponds to the binary correlators $(1,-1,0,0) \\cdot \\vec{P} = P(1|1) - P(2|1)$ and $(0,0,1,-1) \\cdot \\vec{P} = P(1|2) - P(2|2)$.\n",
    "\n",
    "We leave, as an exercice, the construction of the symmetry group of the CHSH scenario using its action on the joint conditional distribution $P_{AB|XY}(ab|xy)$ -- one should recover the results of [our paper](https://arxiv.org/abs/1610.01833)."
   ]
  },
  {
   "cell_type": "markdown",
   "metadata": {},
   "source": [
    "## A final word of warning\n",
    "\n",
    "The presentation above glossed over an important concept: the decomposition of a representation into irreducible subrepresentations is essentially unique, up to the degeneracy afforded by multiplicities. Indeed, when several copies of the same representation appear, the decomposition into irreducible subrepresentation is not exactly unique; refer to the end of Chapter 2 of the book by Jean-Pierre Serre cited in the preface.\n",
    "\n",
    "In particular, the method `dec.irrep(i)` needs to be replaced by `dec.irrep(i,j)` where $i$ is the index of the irreducible representation type, and $j$ is the copy index.\n",
    "\n",
    "Also, if one works using real representations, there could be a difference in the irreducible decomposition when the representation is treated as a complex one. This is because the real field is not algebraically closed. Over the reals, there are three kinds of irreducible representations: RepLAB identifies and puts them in a canonical representation. Not to worry: representation of symmetric groups and derivatives (direct products and the like) are decomposed the same way over the real and complex numbers."
   ]
  }
 ],
 "metadata": {
  "jupytext": {
   "cell_metadata_filter": "-all",
   "notebook_metadata_filter": "-all",
   "text_representation": {
    "extension": ".m",
    "format_name": "light"
   }
  },
  "kernelspec": {
   "display_name": "Octave",
   "language": "octave",
   "name": "octave"
  },
  "language_info": {
   "file_extension": ".m",
   "help_links": [
    {
     "text": "GNU Octave",
     "url": "https://www.gnu.org/software/octave/support.html"
    },
    {
     "text": "Octave Kernel",
     "url": "https://github.com/Calysto/octave_kernel"
    },
    {
     "text": "MetaKernel Magics",
     "url": "https://metakernel.readthedocs.io/en/latest/source/README.html"
    }
   ],
   "mimetype": "text/x-octave",
   "name": "octave",
   "version": "4.2.2"
  }
 },
 "nbformat": 4,
 "nbformat_minor": 4
}

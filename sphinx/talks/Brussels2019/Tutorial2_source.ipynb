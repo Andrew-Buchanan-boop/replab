{
 "cells": [
  {
   "cell_type": "markdown",
   "metadata": {},
   "source": [
    "# 2. Finding an upper bound on CHSH, symmetrized version\n",
    "\n",
    "We initialize the RepLAB library."
   ]
  },
  {
   "cell_type": "code",
   "execution_count": 1,
   "metadata": {},
   "outputs": [
    {
     "name": "stdout",
     "output_type": "stream",
     "text": [
      "Adding RepLAB to the path\n",
      "warning: function /home/denis/w/replab/src/help.m shadows a core library function\n",
      "Adding RepLAB package to the path\n",
      "Loading optim package for Octave...\n",
      "OpenJDK 64-Bit Server VM warning: Archived non-system classes are disabled because the java.system.class.loader property is specified (value = \"org.octave.OctClassLoader\"). To use archived non-system classes, this property must be not be set\n",
      "Adding VPI to the path\n",
      "Adding MOxUnit to the path\n",
      "Adding embedded YALMIP to the path\n",
      "Adding embedded SDPT3 solver to the path\n",
      "Adding MOcov to the path\n"
     ]
    }
   ],
   "source": [
    "run ../../../replab_init"
   ]
  },
  {
   "cell_type": "markdown",
   "metadata": {},
   "source": [
    "During the lecture, we found a form of the SDP that had only one optimization variable. We'll now see how to symmetrize the problem completely.\n",
    "\n",
    "We first declare the one and only variable, before constructing the moment matrix."
   ]
  },
  {
   "cell_type": "code",
   "execution_count": 20,
   "metadata": {},
   "outputs": [
    {
     "name": "stdout",
     "output_type": "stream",
     "text": [
      "ans =  2.8284\n"
     ]
    }
   ],
   "source": [
    "y = sdpvar; % y is actually y_A0B0, but we save space by identifying y with it\n",
    "C = [ 1  0  0  0  0\n",
    "      0  1  0  0  0\n",
    "      0  0  1  0  0\n",
    "      0  0  0  1  0\n",
    "      0  0  0  0  1];\n",
    "A = [ 0  0  0  0  0\n",
    "      0  0  0  1  1\n",
    "      0  0  0  1 -1\n",
    "      0  1  1  0  0\n",
    "      0  1 -1  0  0];\n",
    "X = C + A*y;\n",
    "I_CHSH = 4*y; % it is <A0B0> + <A0B1> + <A1B0> - <A1B1>, and y_A1B1 = -y_A0B0.\n",
    "optimize(X >= 0, -I_CHSH, sdpsettings('verbose', 0)); % sign change to maximize, and we don't show solver out\n",
    "double(I_CHSH)"
   ]
  },
  {
   "cell_type": "markdown",
   "metadata": {},
   "source": [
    "To help with symmetrization, we'll use an equivalent form of the constraint X, and check the result."
   ]
  },
  {
   "cell_type": "markdown",
   "metadata": {},
   "source": [
    "Now, we want to find a change of basis that brings X into a block-diagonal form. This is easier to check on the basis matrices `C` and `A`, i.e. we want to find `U` such that `U*C*U'` and `U*A*U'` are block-diagonal. Let us use RepLAB for that.\n",
    "First, remark that the moment matrix is invariant under the following signed permutations:\n",
    "\n",
    "$\\vec{v} = \\left( 1, A_0, A_1, B_0, B_1 \\right) \\rightarrow  \\left( 1, B_0, B_1, A_0, A_1 \\right) $\n",
    "\n",
    "$\\vec{v} = \\left( 1, A_0, A_1, B_0, B_1 \\right) \\rightarrow  \\left( 1, -A_0, -A_1, -B_0, -B_1 \\right) $\n",
    "\n",
    "$\\vec{v} = \\left( 1, A_0, A_1, B_0, B_1 \\right) \\rightarrow  \\left( 1, A_1, A_0, B_0, -B_1 \\right) $\n",
    "\n",
    "We now show how to use RepLAB to find the change of basis for the symmetry group that includes only the first symmetry."
   ]
  },
  {
   "cell_type": "code",
   "execution_count": 4,
   "metadata": {},
   "outputs": [],
   "source": [
    "g1 = [1 4 5 2 3]; % permutation of parties\n",
    "g2 = [1 -2 -3 -4 -5]; % sign flip everywhere, note the signed permutation convention\n",
    "g3 = [1 3 2 4 -5]; % additional symmetry"
   ]
  },
  {
   "cell_type": "markdown",
   "metadata": {},
   "source": [
    "We build the symmetry group from those generators, which are signed permutations on five elements. For the permutation of parties only, the order (=size) of the group is 2. When adding the other symmetries, the order of the group should be 16."
   ]
  },
  {
   "cell_type": "code",
   "execution_count": 5,
   "metadata": {},
   "outputs": [
    {
     "name": "stdout",
     "output_type": "stream",
     "text": [
      "ans =\n",
      "    16\n"
     ]
    }
   ],
   "source": [
    "nElements = 5;\n",
    "G = replab.signed.Permutations(nElements).subgroup({g1 g2 g3});\n",
    "G.order"
   ]
  },
  {
   "cell_type": "markdown",
   "metadata": {},
   "source": [
    "If necessary, we can also expand the group elements (use `G.elements.at(2)` to get the second element for example)."
   ]
  },
  {
   "cell_type": "code",
   "execution_count": 6,
   "metadata": {},
   "outputs": [
    {
     "name": "stdout",
     "output_type": "stream",
     "text": [
      "ans =\n",
      "\n",
      "Indexed family of 16 elements\n",
      " 1 = [1, 2, 3, 4, 5]    \n",
      " 2 = [1, -3, -2, -4, 5] \n",
      " 3 = [1, 2, -3, 5, 4]   \n",
      " 4 = [1, 3, -2, -5, 4]  \n",
      " 5 = [1, 4, 5, 2, 3]    \n",
      " 6 = [1, -5, -4, -2, 3] \n",
      " 7 = [1, 4, -5, 3, 2]   \n",
      " 8 = [1, 5, -4, -3, 2]  \n",
      " 9 = [1, -4, 5, -3, -2] \n",
      "10 = [1, -5, 4, 3, -2]  \n",
      "11 = [1, -4, -5, -2, -3]\n",
      "12 = [1, 5, 4, 2, -3]   \n",
      "13 = [1, -2, 3, -5, -4] \n",
      "14 = [1, -3, 2, 5, -4]  \n",
      "15 = [1, -2, -3, -4, -5]\n",
      "16 = [1, 3, 2, 4, -5]   \n",
      "\n"
     ]
    }
   ],
   "source": [
    "G.elements"
   ]
  },
  {
   "cell_type": "markdown",
   "metadata": {},
   "source": [
    "Now, the representation we need is composed of signed permutation matrices; as we are considering a group of signed permutations, this is the group *natural representation*. Representations in RepLAB are described using the images of the generators. By calling `G.sampleUniformly`, we get random elements from the group, and by calling `rep.image(g)` we get the image of a group element."
   ]
  },
  {
   "cell_type": "code",
   "execution_count": 7,
   "metadata": {},
   "outputs": [
    {
     "name": "stdout",
     "output_type": "stream",
     "text": [
      "rep =\n",
      "\n",
      "Orthogonal representation by images\n",
      "                 dimension: 5                                \n",
      "                     field: 'R'                              \n",
      "   frobeniusSchurIndicator: []                               \n",
      "                     group: replab.signed.PermutationSubgroup\n",
      "    inverseImages_internal: 1 x 3 cell                       \n",
      "isDivisionAlgebraCanonical: []                               \n",
      "             isIrreducible: []                               \n",
      "                 isUnitary: true                             \n",
      "          trivialDimension: []                               \n",
      "        images_internal{1}: 5 x 5 double                     \n",
      "        images_internal{2}: 5 x 5 double                     \n",
      "        images_internal{3}: 5 x 5 double                     \n",
      "\n"
     ]
    }
   ],
   "source": [
    "rep = G.naturalRep"
   ]
  },
  {
   "cell_type": "code",
   "execution_count": 8,
   "metadata": {},
   "outputs": [
    {
     "name": "stdout",
     "output_type": "stream",
     "text": [
      "g =\n",
      "\n",
      "   1  -2   3  -5  -4\n",
      "\n",
      "ans =\n",
      "\n",
      "   1   0   0   0   0\n",
      "   0  -1   0   0   0\n",
      "   0   0   1   0   0\n",
      "   0   0   0   0  -1\n",
      "   0   0   0  -1   0\n",
      "\n"
     ]
    }
   ],
   "source": [
    "g = G.sampleUniformly\n",
    "full(rep.image(g)) % we use full, as signed permutation representations return sparse matrices"
   ]
  },
  {
   "cell_type": "markdown",
   "metadata": {},
   "source": [
    "Now, we decompose the representation into irreducible components. For that, we call `rep.decomposition`. In the answer I(m)xR(d), we express that the component has $m$ copies (multiplicity) of a `R`eal representation of dimension `d`. We then play with the indices of the component, and copy.\n",
    "\n",
    "Hint: explore `rep.decomposition.component(i).irrep(j)` for $(i,j) = (1,1), (2,1), (3,1)$."
   ]
  },
  {
   "cell_type": "code",
   "execution_count": 9,
   "metadata": {},
   "outputs": [
    {
     "name": "stdout",
     "output_type": "stream",
     "text": [
      "ans =\n",
      "\n",
      "Orthogonal representation\n",
      "                 dimension: 5                                             \n",
      "                     field: 'R'                                           \n",
      "   frobeniusSchurIndicator: []                                            \n",
      "                     group: replab.signed.PermutationSubgroup             \n",
      "isDivisionAlgebraCanonical: []                                            \n",
      "             isIrreducible: []                                            \n",
      "                 isUnitary: true                                          \n",
      "                    parent: Orthogonal representation by images           \n",
      "          trivialDimension: []                                            \n",
      "               basis.(:,1): [1, -9.0724e-18, 0, -1.3657e-17, 1.704e-18].' \n",
      "               basis.(:,2): [0, -0.5, 0.5, 3.1845e-17, -0.70711].'        \n",
      "               basis.(:,3): [0, 0.5, 0.5, 0.70711, 2.1024e-17].'          \n",
      "               basis.(:,4): [0, 0.54012, 0.45637, -0.70462, -0.059222].'  \n",
      "               basis.(:,5): [0, 0.45637, -0.54012, 0.059222, -0.70462].'  \n",
      "              component(1): Isotypic component (harmonized) R(1) (trivial)\n",
      "              component(2): Isotypic component (harmonized) R(2)          \n",
      "              component(3): Isotypic component (harmonized) R(2)          \n",
      "\n"
     ]
    }
   ],
   "source": [
    "rep.decomposition"
   ]
  },
  {
   "cell_type": "code",
   "execution_count": 10,
   "metadata": {},
   "outputs": [
    {
     "name": "stdout",
     "output_type": "stream",
     "text": [
      "ans =\n",
      "\n",
      "Orthogonal trivial irreducible real-type subrepresentation\n",
      "                 dimension: 1                                            \n",
      "                     field: 'R'                                          \n",
      "   frobeniusSchurIndicator: 1                                            \n",
      "                     group: replab.signed.PermutationSubgroup            \n",
      "isDivisionAlgebraCanonical: []                                           \n",
      "             isIrreducible: true                                         \n",
      "                 isUnitary: true                                         \n",
      "                    parent: Orthogonal representation by images          \n",
      "          trivialDimension: 1                                            \n",
      "               basis.(:,1): [1, -9.0724e-18, 0, -1.3657e-17, 1.704e-18].'\n",
      "\n"
     ]
    }
   ],
   "source": [
    "rep.decomposition.component(1).irrep(1)"
   ]
  },
  {
   "cell_type": "markdown",
   "metadata": {},
   "source": [
    "We now ask for the change of basis matrix, and verify that `A` and `C` block-diagonalize."
   ]
  },
  {
   "cell_type": "code",
   "execution_count": 21,
   "metadata": {},
   "outputs": [
    {
     "name": "stdout",
     "output_type": "stream",
     "text": [
      "U =\n",
      "\n",
      "   1.00000   0.00000   0.00000   0.00000   0.00000\n",
      "  -0.00000  -0.50000   0.50000   0.54012   0.45637\n",
      "   0.00000   0.50000   0.50000   0.45637  -0.54012\n",
      "  -0.00000   0.00000   0.70711  -0.70462   0.05922\n",
      "   0.00000  -0.70711   0.00000  -0.05922  -0.70462\n",
      "\n",
      "ans =\n",
      "\n",
      "   1.0000e+00   3.3313e-18  -1.4193e-17   4.6221e-18  -6.1499e-18\n",
      "   3.3313e-18   1.0000e+00  -4.7860e-17   1.6653e-16   1.6653e-16\n",
      "  -1.4193e-17  -4.7860e-17   1.0000e+00   4.4284e-16  -9.3640e-19\n",
      "   4.6221e-18   1.6653e-16   4.4284e-16   1.0000e+00  -9.0206e-17\n",
      "  -6.1499e-18   1.6653e-16  -9.3640e-19  -9.0206e-17   1.0000e+00\n",
      "\n",
      "ans =\n",
      "\n",
      "   2.1689e-34   4.7112e-18  -2.0072e-17  -6.5366e-18   8.6972e-18\n",
      "   4.7112e-18   1.4142e+00  -7.6535e-17   2.5674e-16   1.1102e-16\n",
      "  -2.0072e-17  -4.6660e-17   1.4142e+00   6.5956e-16  -1.4762e-16\n",
      "  -6.5366e-18   2.2898e-16   5.5687e-16  -1.4142e+00   1.8041e-16\n",
      "   8.6972e-18   1.1102e-16  -1.3171e-16   1.8041e-16  -1.4142e+00\n",
      "\n"
     ]
    }
   ],
   "source": [
    "U = rep.decomposition.basis\n",
    "U'*C*U\n",
    "U'*A*U"
   ]
  },
  {
   "cell_type": "markdown",
   "metadata": {},
   "source": [
    "Once we have found the change of basis matrix, we transform our moment matrix `X`, and naturally it should have a block diagonal structure following the one of `C` and `A` -- for that, it may be necessary to kill small off-block coefficients."
   ]
  },
  {
   "cell_type": "code",
   "execution_count": 22,
   "metadata": {},
   "outputs": [
    {
     "name": "stdout",
     "output_type": "stream",
     "text": []
    },
    {
     "name": "stdout",
     "output_type": "stream",
     "text": [
      "\n",
      " num. of constraints =  1\n",
      " dim. of sdp    var  =  5,   num. of sdp  blk  =  1\n",
      "*******************************************************************\n",
      "   SDPT3: Infeasible path-following algorithms\n",
      "*******************************************************************\n",
      " version  predcorr  gam  expon  scale_data\n",
      "   HKM      1      0.000   1        0    \n",
      "it pstep dstep pinfeas dinfeas  gap      prim-obj      dual-obj    cputime\n",
      "-------------------------------------------------------------------\n",
      " 0|0.000|0.000|8.0e-01|6.2e+00|5.0e+02| 5.000000e+01  0.000000e+00| 0:0:00| chol  1  1 \n",
      " 1|1.000|1.000|6.5e-08|6.9e-02|4.3e+01| 3.984640e+01  4.400004e-01| 0:0:00| chol  1  1 \n",
      " 2|0.933|1.000|1.5e-07|6.9e-03|2.9e+00| 3.700414e+00  8.665599e-01| 0:0:00| chol  1  1 \n",
      " 3|1.000|0.949|3.5e-08|1.0e-03|2.8e-01| 3.024905e+00  2.752468e+00| 0:0:00| chol  1  1 \n",
      " 4|0.987|0.988|1.1e-08|8.0e-05|3.4e-03| 2.830875e+00  2.827762e+00| 0:0:00| chol  1  1 \n",
      " 5|0.989|0.989|3.5e-10|7.7e-06|3.8e-05| 2.828454e+00  2.828448e+00| 0:0:00| chol  1  1 \n",
      " 6|0.989|0.989|8.9e-12|8.5e-08|4.2e-07| 2.828427e+00  2.828427e+00| 0:0:00|\n",
      "  stop: max(relative gap, infeasibilities) < 1.00e-07\n",
      "-------------------------------------------------------------------\n",
      " number of iterations   =  6\n",
      " primal objective value =  2.82842742e+00\n",
      " dual   objective value =  2.82842735e+00\n",
      " gap := trace(XZ)       = 4.17e-07\n",
      " relative gap           = 6.26e-08\n",
      " actual relative gap    = 1.04e-08\n",
      " rel. primal infeas (scaled problem)   = 8.94e-12\n",
      " rel. dual     \"        \"       \"      = 8.49e-08\n",
      " rel. primal infeas (unscaled problem) = 0.00e+00\n",
      " rel. dual     \"        \"       \"      = 0.00e+00\n",
      " norm(X), norm(y), norm(Z) = 2.0e+00, 7.1e-01, 3.0e+00\n",
      " norm(A), norm(b), norm(C) = 3.8e+00, 5.0e+00, 3.2e+00\n",
      " Total CPU time (secs)  = 0.15  \n",
      " CPU time per iteration = 0.02  \n",
      " termination code       =  0\n",
      " DIMACS: 8.9e-12  0.0e+00  1.4e-07  0.0e+00  1.0e-08  6.3e-08\n",
      "-------------------------------------------------------------------\n",
      "ans =  2.8284\n"
     ]
    }
   ],
   "source": [
    "X = (U'*C*U) + (U'*A*U)*y; % equivalent to the constraint above\n",
    "optimize(X >= 0, -I_CHSH); % sign change to maximize\n",
    "double(I_CHSH)"
   ]
  },
  {
   "cell_type": "markdown",
   "metadata": {},
   "source": [
    "As an exercice, recover an algebraic basis from `U`, guess the form of the semidefinite program when fully block-diagonal (i.e. for the full group of CHSH symmetries).\n",
    "**Remark that now the problem can be solved by hand to recover the** $2\\sqrt{2}$ **bound, as the SDP matrix is fully diagonal, and thus corresponds to linear inequalities.**"
   ]
  }
 ],
 "metadata": {
  "kernelspec": {
   "display_name": "Octave",
   "language": "octave",
   "name": "octave"
  },
  "language_info": {
   "file_extension": ".m",
   "help_links": [
    {
     "text": "GNU Octave",
     "url": "https://www.gnu.org/software/octave/support.html"
    },
    {
     "text": "Octave Kernel",
     "url": "https://github.com/Calysto/octave_kernel"
    },
    {
     "text": "MetaKernel Magics",
     "url": "https://metakernel.readthedocs.io/en/latest/source/README.html"
    }
   ],
   "mimetype": "text/x-octave",
   "name": "octave",
   "version": "4.2.2"
  }
 },
 "nbformat": 4,
 "nbformat_minor": 4
}

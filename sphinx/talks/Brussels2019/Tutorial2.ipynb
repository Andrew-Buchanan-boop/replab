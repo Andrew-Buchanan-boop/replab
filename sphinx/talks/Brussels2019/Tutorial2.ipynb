{
 "cells": [
  {
   "cell_type": "markdown",
   "metadata": {},
   "source": [
    "# 2. Finding an upper bound on CHSH, symmetrized version\n",
    "\n",
    "We initialize the RepLAB library."
   ]
  },
  {
   "cell_type": "code",
   "execution_count": 1,
   "metadata": {},
   "outputs": [
    {
     "name": "stdout",
     "output_type": "stream",
     "text": [
      "Adding RepLAB to the path\r\n",
      "warning: function /workspace/replab/src/help.m shadows a core library function\r\n",
      "Adding RepLAB package to the path\r\n",
      "Loading optim package for Octave...\r\n",
      "Adding VPI to the path\r\n",
      "Adding MOxUnit to the path\r\n",
      "Adding embedded YALMIP to the path\r\n",
      "Adding embedded SDPT3 solver to the path\r\n",
      "Adding MOcov to the path\r\n"
     ]
    }
   ],
   "source": [
    "run ../../../replab_init"
   ]
  },
  {
   "cell_type": "markdown",
   "metadata": {},
   "source": [
    "During the lecture, we found a form of the SDP that had only one optimization variable. We'll now see how to symmetrize the problem completely.\n",
    "\n",
    "We first declare the one and only variable, before constructing the moment matrix."
   ]
  },
  {
   "cell_type": "code",
   "execution_count": 2,
   "metadata": {},
   "outputs": [
    {
     "name": "stdout",
     "output_type": "stream",
     "text": [
      "ans = NaN\r\n"
     ]
    }
   ],
   "source": [
    "y = sdpvar; % y is actually y_A0B0, but we save space by identifying y with it\n",
    "C = [ 1  0  0  0  0\n",
    "      0  1  0  0  0\n",
    "      0  0  1  0  0\n",
    "      0  0  0  1  0\n",
    "      0  0  0  0  1];\n",
    "A = [ 0  0  0  0  0\n",
    "      0  0  0  1  1\n",
    "      0  0  0  1 -1\n",
    "      0  1  1  0  0\n",
    "      0  1 -1  0  0];\n",
    "X = C + A*y;\n",
    "I_CHSH = 4*y; % it is <A0B0> + <A0B1> + <A1B0> - <A1B1>, and y_A1B1 = -y_A0B0.\n",
    "optimize(X >= 0, -I_CHSH, sdpsettings('verbose', 0)); % sign change to maximize, and we don't show solver out\n",
    "double(I_CHSH)"
   ]
  },
  {
   "cell_type": "markdown",
   "metadata": {},
   "source": [
    "To help with symmetrization, we'll use an equivalent form of the constraint X, and check the result."
   ]
  },
  {
   "cell_type": "markdown",
   "metadata": {},
   "source": [
    "Now, we want to find a change of basis that brings X into a block-diagonal form. This is easier to check on the basis matrices `C` and `A`, i.e. we want to find `U` such that `U*C*U'` and `U*A*U'` are block-diagonal. Let us use RepLAB for that.\n",
    "First, remark that the moment matrix is invariant under the following signed permutations:\n",
    "\n",
    "$\\vec{v} = \\left( 1, A_0, A_1, B_0, B_1 \\right) \\rightarrow  \\left( 1, B_0, B_1, A_0, A_1 \\right) $\n",
    "\n",
    "$\\vec{v} = \\left( 1, A_0, A_1, B_0, B_1 \\right) \\rightarrow  \\left( 1, -A_0, -A_1, -B_0, -B_1 \\right) $\n",
    "\n",
    "$\\vec{v} = \\left( 1, A_0, A_1, B_0, B_1 \\right) \\rightarrow  \\left( 1, A_1, A_0, B_0, -B_1 \\right) $\n",
    "\n",
    "We now show how to use RepLAB to find the change of basis for the symmetry group that includes only the first symmetry."
   ]
  },
  {
   "cell_type": "code",
   "execution_count": 3,
   "metadata": {},
   "outputs": [],
   "source": [
    "g1 = [1 4 5 2 3]; % permutation of parties\n",
    "g2 = [1 -2 -3 -4 -5]; % sign flip everywhere, note the signed permutation convention\n",
    "g3 = [1 3 2 4 -5]; % additional symmetry"
   ]
  },
  {
   "cell_type": "markdown",
   "metadata": {},
   "source": [
    "We build the symmetry group from those generators, which are signed permutations on five elements. For the permutation of parties only, the order (=size) of the group is 2. When adding the other symmetries, the order of the group should be 16."
   ]
  },
  {
   "cell_type": "code",
   "execution_count": 4,
   "metadata": {},
   "outputs": [
    {
     "name": "stdout",
     "output_type": "stream",
     "text": [
      "ans =\r\n",
      "    16\r\n"
     ]
    }
   ],
   "source": [
    "nElements = 5;\n",
    "G = replab.signed.Permutations(nElements).subgroup({g1 g2 g3});\n",
    "G.order"
   ]
  },
  {
   "cell_type": "markdown",
   "metadata": {},
   "source": [
    "If necessary, we can also expand the group elements (use `G.elements.at(2)` to get the second element for example)."
   ]
  },
  {
   "cell_type": "code",
   "execution_count": 5,
   "metadata": {},
   "outputs": [
    {
     "name": "stdout",
     "output_type": "stream",
     "text": [
      "ans =\r\n",
      "\r\n",
      "Indexed family of 16 elements\r\n",
      " 1 = [1, 2, 3, 4, 5]    \r\n",
      " 2 = [1, -3, -2, -4, 5] \r\n",
      " 3 = [1, 2, -3, 5, 4]   \r\n",
      " 4 = [1, 3, -2, -5, 4]  \r\n",
      " 5 = [1, 4, 5, 2, 3]    \r\n",
      " 6 = [1, -5, -4, -2, 3] \r\n",
      " 7 = [1, 4, -5, 3, 2]   \r\n",
      " 8 = [1, 5, -4, -3, 2]  \r\n",
      " 9 = [1, -4, 5, -3, -2] \r\n",
      "10 = [1, -5, 4, 3, -2]  \r\n",
      "11 = [1, -4, -5, -2, -3]\r\n",
      "12 = [1, 5, 4, 2, -3]   \r\n",
      "13 = [1, -2, 3, -5, -4] \r\n",
      "14 = [1, -3, 2, 5, -4]  \r\n",
      "15 = [1, -2, -3, -4, -5]\r\n",
      "16 = [1, 3, 2, 4, -5]   \r\n",
      "\r\n"
     ]
    }
   ],
   "source": [
    "G.elements"
   ]
  },
  {
   "cell_type": "markdown",
   "metadata": {},
   "source": [
    "Now, the representation we need is composed of signed permutation matrices; as we are considering a group of signed permutations, this is the group *natural representation*. Representations in RepLAB are described using the images of the generators. By calling `G.sampleUniformly`, we get random elements from the group, and by calling `rep.image(g)` we get the image of a group element."
   ]
  },
  {
   "cell_type": "code",
   "execution_count": 6,
   "metadata": {},
   "outputs": [
    {
     "name": "stdout",
     "output_type": "stream",
     "text": [
      "rep =\r\n",
      "\r\n",
      "Orthogonal representation by images\r\n",
      "                 dimension: 5                                \r\n",
      "                     field: 'R'                              \r\n",
      "   frobeniusSchurIndicator: []                               \r\n",
      "                     group: replab.signed.PermutationSubgroup\r\n",
      "    inverseImages_internal: 1 x 3 cell                       \r\n",
      "isDivisionAlgebraCanonical: []                               \r\n",
      "             isIrreducible: []                               \r\n",
      "                 isUnitary: true                             \r\n",
      "          trivialDimension: []                               \r\n",
      "        images_internal{1}: 5 x 5 double                     \r\n",
      "        images_internal{2}: 5 x 5 double                     \r\n",
      "        images_internal{3}: 5 x 5 double                     \r\n",
      "\r\n"
     ]
    }
   ],
   "source": [
    "rep = G.naturalRep"
   ]
  },
  {
   "cell_type": "code",
   "execution_count": 7,
   "metadata": {},
   "outputs": [
    {
     "name": "stdout",
     "output_type": "stream",
     "text": [
      "g =\r\n",
      "\r\n",
      "   1  -2   3  -5  -4\r\n",
      "\r\n",
      "ans =\r\n",
      "\r\n",
      "   1   0   0   0   0\r\n",
      "   0  -1   0   0   0\r\n",
      "   0   0   1   0   0\r\n",
      "   0   0   0   0  -1\r\n",
      "   0   0   0  -1   0\r\n",
      "\r\n"
     ]
    }
   ],
   "source": [
    "g = G.sampleUniformly\n",
    "full(rep.image(g)) % we use full, as signed permutation representations return sparse matrices"
   ]
  },
  {
   "cell_type": "markdown",
   "metadata": {},
   "source": [
    "Now, we decompose the representation into irreducible components. For that, we call `rep.decomposition`. In the answer I(m)xR(d), we express that the component has $m$ copies (multiplicity) of a `R`eal representation of dimension `d`. We then play with the indices of the component, and copy.\n",
    "\n",
    "Hint: explore `rep.decomposition.component(i).irrep(j)` for $(i,j) = (1,1), (2,1), (3,1)$."
   ]
  },
  {
   "cell_type": "code",
   "execution_count": 8,
   "metadata": {},
   "outputs": [
    {
     "name": "stdout",
     "output_type": "stream",
     "text": [
      "ans =\r\n",
      "\r\n",
      "Orthogonal representation\r\n",
      "                 dimension: 5                                             \r\n",
      "                     field: 'R'                                           \r\n",
      "   frobeniusSchurIndicator: []                                            \r\n",
      "                     group: replab.signed.PermutationSubgroup             \r\n",
      "isDivisionAlgebraCanonical: []                                            \r\n",
      "             isIrreducible: []                                            \r\n",
      "                 isUnitary: true                                          \r\n",
      "                    parent: Orthogonal representation by images           \r\n",
      "          trivialDimension: []                                            \r\n",
      "               basis.(:,1): [1, -1.4207e-18, 0, 2.9938e-18, 4.0608e-19].' \r\n",
      "               basis.(:,2): [0, -0.31163, 0.63474, 0.22847, -0.66918].'   \r\n",
      "               basis.(:,3): [0, 0.63474, 0.31163, 0.66918, 0.22847].'     \r\n",
      "               basis.(:,4): [0, -0.59206, 0.38661, 0.14528, 0.69202].'    \r\n",
      "               basis.(:,5): [0, -0.38661, -0.59206, 0.69202, -0.14528].'  \r\n",
      "              component(1): Isotypic component (harmonized) R(1) (trivial)\r\n",
      "              component(2): Isotypic component (harmonized) R(2)          \r\n",
      "              component(3): Isotypic component (harmonized) R(2)          \r\n",
      "\r\n"
     ]
    }
   ],
   "source": [
    "rep.decomposition"
   ]
  },
  {
   "cell_type": "code",
   "execution_count": 9,
   "metadata": {},
   "outputs": [
    {
     "name": "stdout",
     "output_type": "stream",
     "text": [
      "ans =\r\n",
      "\r\n",
      "Orthogonal trivial irreducible real-type subrepresentation\r\n",
      "                 dimension: 1                                            \r\n",
      "                     field: 'R'                                          \r\n",
      "   frobeniusSchurIndicator: 1                                            \r\n",
      "                     group: replab.signed.PermutationSubgroup            \r\n",
      "isDivisionAlgebraCanonical: []                                           \r\n",
      "             isIrreducible: true                                         \r\n",
      "                 isUnitary: true                                         \r\n",
      "                    parent: Orthogonal representation by images          \r\n",
      "          trivialDimension: 1                                            \r\n",
      "               basis.(:,1): [1, -1.4207e-18, 0, 2.9938e-18, 4.0608e-19].'\r\n",
      "\r\n"
     ]
    }
   ],
   "source": [
    "rep.decomposition.component(1).irrep(1)"
   ]
  },
  {
   "cell_type": "markdown",
   "metadata": {},
   "source": [
    "We now ask for the change of basis matrix, and verify that `A` and `C` block-diagonalize."
   ]
  },
  {
   "cell_type": "code",
   "execution_count": 10,
   "metadata": {},
   "outputs": [
    {
     "name": "stdout",
     "output_type": "stream",
     "text": [
      "U =\r\n",
      "\r\n",
      "   1.00000   0.00000   0.00000   0.00000   0.00000\r\n",
      "  -0.00000  -0.31163   0.63474  -0.59206  -0.38661\r\n",
      "   0.00000   0.63474   0.31163   0.38661  -0.59206\r\n",
      "   0.00000   0.22847   0.66918   0.14528   0.69202\r\n",
      "   0.00000  -0.66918   0.22847   0.69202  -0.14528\r\n",
      "\r\n",
      "ans =\r\n",
      "\r\n",
      "   1.0000e+00   8.5497e-19   1.1944e-18   1.5571e-18   2.5620e-18\r\n",
      "   8.5497e-19   1.0000e+00   3.7031e-18  -1.5730e-16  -1.2659e-16\r\n",
      "   1.1944e-18   3.7031e-18   1.0000e+00  -8.8895e-18   1.2365e-17\r\n",
      "   1.5571e-18  -1.5730e-16  -8.8895e-18   1.0000e+00  -8.6679e-18\r\n",
      "   2.5620e-18  -1.2659e-16   1.2365e-17  -8.6679e-18   1.0000e+00\r\n",
      "\r\n",
      "ans =\r\n",
      "\r\n",
      "  -9.6602e-36   1.2091e-18   1.6891e-18  -2.2020e-18  -3.6232e-18\r\n",
      "   1.2091e-18   1.4142e+00   5.0924e-17  -4.2516e-16  -3.7420e-16\r\n",
      "   1.6891e-18   4.3752e-17   1.4142e+00  -2.8723e-17   9.5131e-17\r\n",
      "  -2.2020e-18  -4.3356e-16  -1.3871e-16  -1.4142e+00   9.2615e-17\r\n",
      "  -3.6232e-18  -4.1594e-16   1.2396e-16  -1.3807e-17  -1.4142e+00\r\n",
      "\r\n"
     ]
    }
   ],
   "source": [
    "U = rep.decomposition.basis\n",
    "U'*C*U\n",
    "U'*A*U"
   ]
  },
  {
   "cell_type": "markdown",
   "metadata": {},
   "source": [
    "Once we have found the change of basis matrix, we transform our moment matrix `X`, and naturally it should have a block diagonal structure following the one of `C` and `A` -- for that, it may be necessary to kill small off-block coefficients."
   ]
  },
  {
   "cell_type": "code",
   "execution_count": 11,
   "metadata": {},
   "outputs": [
    {
     "name": "stdout",
     "output_type": "stream",
     "text": [
      "ans = NaN\r\n"
     ]
    }
   ],
   "source": [
    "X = (U'*C*U) + (U'*A*U)*y; % equivalent to the constraint above\n",
    "optimize(X >= 0, -I_CHSH); % sign change to maximize\n",
    "double(I_CHSH)"
   ]
  },
  {
   "cell_type": "markdown",
   "metadata": {},
   "source": [
    "As an exercice, recover an algebraic basis from `U`, guess the form of the semidefinite program when fully block-diagonal (i.e. for the full group of CHSH symmetries).\n",
    "**Remark that now the problem can be solved by hand to recover the** $2\\sqrt{2}$ **bound, as the SDP matrix is fully diagonal, and thus corresponds to linear inequalities.**"
   ]
  }
 ],
 "metadata": {
  "kernelspec": {
   "display_name": "Octave",
   "language": "octave",
   "name": "octave"
  },
  "language_info": {
   "file_extension": ".m",
   "help_links": [
    {
     "text": "GNU Octave",
     "url": "https://www.gnu.org/software/octave/support.html"
    },
    {
     "text": "Octave Kernel",
     "url": "https://github.com/Calysto/octave_kernel"
    },
    {
     "text": "MetaKernel Magics",
     "url": "https://metakernel.readthedocs.io/en/latest/source/README.html"
    }
   ],
   "mimetype": "text/x-octave",
   "name": "octave",
   "version": "4.2.2"
  }
 },
 "nbformat": 4,
 "nbformat_minor": 4
}
